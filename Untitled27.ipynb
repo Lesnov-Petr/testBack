{
  "nbformat": 4,
  "nbformat_minor": 0,
  "metadata": {
    "colab": {
      "provenance": [],
      "authorship_tag": "ABX9TyPcirnbf9HauTdYcMqy3AM4",
      "include_colab_link": true
    },
    "kernelspec": {
      "name": "python3",
      "display_name": "Python 3"
    },
    "language_info": {
      "name": "python"
    }
  },
  "cells": [
    {
      "cell_type": "markdown",
      "metadata": {
        "id": "view-in-github",
        "colab_type": "text"
      },
      "source": [
        "<a href=\"https://colab.research.google.com/github/Lesnov-Petr/testBack/blob/main/Untitled27.ipynb\" target=\"_parent\"><img src=\"https://colab.research.google.com/assets/colab-badge.svg\" alt=\"Open In Colab\"/></a>"
      ]
    },
    {
      "cell_type": "code",
      "execution_count": 3,
      "metadata": {
        "id": "X2KGPvaSCM7u"
      },
      "outputs": [],
      "source": [
        "# Основа для модели нейронной сети\n",
        "from tensorflow.keras.models import Model\n",
        "\n",
        "# Стандартные слои keras\n",
        "from tensorflow.keras.layers import Input, Conv2DTranspose, concatenate, Activation, MaxPooling2D, Conv2D, BatchNormalization\n",
        "\n",
        "# Оптимизатор Adam\n",
        "from tensorflow.keras.optimizers import Adam\n",
        "\n",
        "# Дополнительные утилиты keras\n",
        "from tensorflow.keras import utils\n",
        "\n",
        "# Инструменты для построения графиков\n",
        "import matplotlib.pyplot as plt\n",
        "\n",
        "# Инструменты для работы с изображениями\n",
        "from tensorflow.keras.preprocessing import image\n",
        "\n",
        "# Инструменты для работы с массивами\n",
        "import numpy as np\n",
        "\n",
        "# Системные инструменты\n",
        "import time, random, gdown, os, gc\n",
        "\n",
        "# Дополнительные инструменты для работы с изображениями\n",
        "from PIL import Image\n",
        "\n",
        "# Дополнительные инструменты визуализации\n",
        "import seaborn as sns\n",
        "sns.set_style('darkgrid')"
      ]
    }
  ]
}